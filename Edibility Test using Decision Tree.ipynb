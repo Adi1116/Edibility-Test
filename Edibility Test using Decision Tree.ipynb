{
 "cells": [
  {
   "cell_type": "code",
   "execution_count": 42,
   "id": "781f01d2",
   "metadata": {},
   "outputs": [],
   "source": [
    "import numpy as np\n",
    "import matplotlib.pyplot as plt\n",
    "%matplotlib inline\n"
   ]
  },
  {
   "cell_type": "code",
   "execution_count": 43,
   "id": "ccc8a1a0",
   "metadata": {},
   "outputs": [],
   "source": [
    "x_train = np.array([[1,1,1],[1,0,1],[1,0,0],[1,0,0],[1,1,1],[0,1,1],[0,0,0],[1,0,1],[0,1,0],[1,0,0]])\n",
    "y_train = np.array([1,1,0,0,1,0,0,1,1,0])"
   ]
  },
  {
   "cell_type": "code",
   "execution_count": 44,
   "id": "cef3f8b5",
   "metadata": {},
   "outputs": [
    {
     "name": "stdout",
     "output_type": "stream",
     "text": [
      "Elements of x_train : \n",
      " [[1 1 1]\n",
      " [1 0 1]\n",
      " [1 0 0]\n",
      " [1 0 0]\n",
      " [1 1 1]\n",
      " [0 1 1]\n",
      " [0 0 0]\n",
      " [1 0 1]\n",
      " [0 1 0]\n",
      " [1 0 0]]\n",
      "\n",
      "Elements of y_train : \n",
      " [1 1 0 0 1 0 0 1 1 0]\n",
      "\n",
      "The shape of x_train is: (10, 3)\n",
      "The shape of y_train is:  (10,)\n",
      "Number of training examples (m): 10\n"
     ]
    }
   ],
   "source": [
    "print(\"Elements of x_train : \\n\", x_train[:10])\n",
    "print(\"\\nElements of y_train : \\n\", y_train[:10])\n",
    "print ('\\nThe shape of x_train is:', x_train.shape)\n",
    "print ('The shape of y_train is: ', y_train.shape)\n",
    "print ('Number of training examples (m):', len(x_train))"
   ]
  },
  {
   "cell_type": "code",
   "execution_count": 45,
   "id": "95825c07",
   "metadata": {},
   "outputs": [],
   "source": [
    "def entropy(y):\n",
    "    p1 = 0\n",
    "    ent = 0\n",
    "    if len(y) != 0:\n",
    "        p1 = len(y[y == 1]) / len(y)\n",
    "        \n",
    "    if p1 != 0 and p1 != 1:\n",
    "        ent = - p1*np.log2(p1) - (1-p1)*np.log2(1-p1)\n",
    "      \n",
    "    else:\n",
    "        ent = 0\n",
    "        \n",
    "    return ent  "
   ]
  },
  {
   "cell_type": "code",
   "execution_count": 46,
   "id": "d47abf60",
   "metadata": {},
   "outputs": [
    {
     "name": "stdout",
     "output_type": "stream",
     "text": [
      "Entropy at root node is :  1.0\n"
     ]
    }
   ],
   "source": [
    "print(\"Entropy at root node is : \", entropy(y_train))"
   ]
  },
  {
   "cell_type": "code",
   "execution_count": 47,
   "id": "2c565949",
   "metadata": {},
   "outputs": [],
   "source": [
    "def split_data(x, node_indices, feature):\n",
    "    left = []\n",
    "    right = []\n",
    "    for i in node_indices:\n",
    "        if(x[i][feature] == 1):\n",
    "            left.append(i)\n",
    "            \n",
    "        else:\n",
    "            right.append(i)\n",
    "            \n",
    "    return left, right    "
   ]
  },
  {
   "cell_type": "code",
   "execution_count": 48,
   "id": "e1d6503e",
   "metadata": {},
   "outputs": [
    {
     "name": "stdout",
     "output_type": "stream",
     "text": [
      "CASE 1:\n",
      "Left indices:  [0, 1, 4, 5, 7]\n",
      "Right indices:  [2, 3, 6, 8, 9]\n",
      "CASE 2:\n",
      "Left indices:  [0, 4]\n",
      "Right indices:  [2, 6, 8]\n"
     ]
    }
   ],
   "source": [
    "root_indices = [0, 1, 2, 3, 4, 5, 6, 7, 8, 9]\n",
    "feature = 2\n",
    "left, right = split_data(x_train, root_indices, feature)\n",
    "print(\"CASE 1:\")\n",
    "print(\"Left indices: \", left)\n",
    "print(\"Right indices: \", right)\n",
    "\n",
    "root_indices_subset = [0, 2, 4, 6, 8]\n",
    "left, right = split_data(x_train, root_indices_subset, feature)\n",
    "\n",
    "print(\"CASE 2:\")\n",
    "print(\"Left indices: \", left)\n",
    "print(\"Right indices: \", right)"
   ]
  },
  {
   "cell_type": "code",
   "execution_count": 49,
   "id": "af5e40b4",
   "metadata": {},
   "outputs": [],
   "source": [
    "def info_gain(x, y, node_indices, feature):\n",
    "    left, right = split_data(x, node_indices, feature)\n",
    "    x_node, y_node = x[node_indices], y[node_indices]\n",
    "    x_left, y_left = x[left], y[left]\n",
    "    x_right, y_right = x[right], y[right]\n",
    "    \n",
    "    info = 0\n",
    "    \n",
    "    node_entropy = entropy(y_node)\n",
    "    left_entropy = entropy(y_left)\n",
    "    right_entropy = entropy(y_right)\n",
    "    w_left = len(x_left) / len(x_node)\n",
    "    w_right = len(x_right) / len(x_node)\n",
    "    weighted_entropy =  w_left * left_entropy + w_right * right_entropy\n",
    "    info = node_entropy - weighted_entropy\n",
    "    \n",
    "    return info"
   ]
  },
  {
   "cell_type": "code",
   "execution_count": 50,
   "id": "0f8278c2",
   "metadata": {},
   "outputs": [
    {
     "name": "stdout",
     "output_type": "stream",
     "text": [
      "Information Gain from splitting the root on brown cap:  0.034851554559677034\n",
      "Information Gain from splitting the root on tapering stalk shape:  0.12451124978365313\n",
      "Information Gain from splitting the root on solitary:  0.2780719051126377\n",
      "Maximum info gain is :  0.2780719051126377\n"
     ]
    }
   ],
   "source": [
    "info_gain0 = info_gain(x_train, y_train, root_indices, feature=0)\n",
    "print(\"Information Gain from splitting the root on brown cap: \", info_gain0)\n",
    "\n",
    "info_gain1 = info_gain(x_train, y_train, root_indices, feature=1)\n",
    "print(\"Information Gain from splitting the root on tapering stalk shape: \", info_gain1)\n",
    "\n",
    "info_gain2 = info_gain(x_train, y_train, root_indices, feature=2)\n",
    "print(\"Information Gain from splitting the root on solitary: \", info_gain2)\n",
    "\n",
    "max_info = max(info_gain0, info_gain1, info_gain2)\n",
    "print(\"Maximum info gain is : \", max_info)"
   ]
  },
  {
   "cell_type": "code",
   "execution_count": 51,
   "id": "f9801da1",
   "metadata": {},
   "outputs": [],
   "source": [
    "def best_feature(max_info, x, y, node_indices):\n",
    "    temp = x.shape[1]\n",
    "    best_feature = -1\n",
    "    for feature in range(temp):\n",
    "        info = info_gain(x, y, node_indices, feature)\n",
    "        if info == max_info:\n",
    "            best_feature = feature\n",
    "            \n",
    "            \n",
    "    return best_feature"
   ]
  },
  {
   "cell_type": "code",
   "execution_count": 52,
   "id": "1d5ec8e4",
   "metadata": {},
   "outputs": [
    {
     "name": "stdout",
     "output_type": "stream",
     "text": [
      "Best feature to split on: 2\n"
     ]
    }
   ],
   "source": [
    "best_feature = best_feature(max_info, x_train, y_train, root_indices)\n",
    "print(\"Best feature to split on: %d\" % best_feature)"
   ]
  },
  {
   "cell_type": "code",
   "execution_count": 53,
   "id": "e13cf696",
   "metadata": {},
   "outputs": [],
   "source": [
    "tree = []\n",
    "def build_tree_recursive(x, y, node_indices, branch_name, max_depth, current_depth):\n",
    "    if current_depth == max_depth:\n",
    "        formatting = \" \"*current_depth + \"-\"*current_depth\n",
    "        print(formatting, \"%s leaf node with indices\" % branch_name, node_indices)\n",
    "        return\n",
    "     \n",
    "    best_feature = 2\n",
    "    \n",
    "    formatting = \"-\"*current_depth\n",
    "    print(\"%s Depth %d, %s: Split on feature: %d\" % (formatting, current_depth, branch_name, best_feature))\n",
    "    \n",
    "    left, right = split_data(x, node_indices, best_feature)\n",
    "    tree.append((left, right, best_feature))\n",
    "    \n",
    "    build_tree_recursive(x, y, left, \"Left\", max_depth, current_depth+1)\n",
    "    build_tree_recursive(x, y, right, \"Right\", max_depth, current_depth+1)\n",
    "    "
   ]
  },
  {
   "cell_type": "code",
   "execution_count": 54,
   "id": "4aa35650",
   "metadata": {},
   "outputs": [
    {
     "name": "stdout",
     "output_type": "stream",
     "text": [
      " Depth 0, Root: Split on feature: 2\n",
      "- Depth 1, Left: Split on feature: 2\n",
      "  -- Left leaf node with indices [0, 1, 4, 5, 7]\n",
      "  -- Right leaf node with indices []\n",
      "- Depth 1, Right: Split on feature: 2\n",
      "  -- Left leaf node with indices []\n",
      "  -- Right leaf node with indices [2, 3, 6, 8, 9]\n"
     ]
    }
   ],
   "source": [
    "\n",
    "build_tree_recursive(x_train, y_train, root_indices, \"Root\", max_depth=2, current_depth=0)"
   ]
  }
 ],
 "metadata": {
  "kernelspec": {
   "display_name": "Python 3 (ipykernel)",
   "language": "python",
   "name": "python3"
  },
  "language_info": {
   "codemirror_mode": {
    "name": "ipython",
    "version": 3
   },
   "file_extension": ".py",
   "mimetype": "text/x-python",
   "name": "python",
   "nbconvert_exporter": "python",
   "pygments_lexer": "ipython3",
   "version": "3.10.9"
  }
 },
 "nbformat": 4,
 "nbformat_minor": 5
}
